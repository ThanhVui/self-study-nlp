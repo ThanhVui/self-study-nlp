{
  "nbformat": 4,
  "nbformat_minor": 0,
  "metadata": {
    "colab": {
      "provenance": []
    },
    "kernelspec": {
      "name": "python3",
      "display_name": "Python 3"
    },
    "language_info": {
      "name": "python"
    }
  },
  "cells": [
    {
      "cell_type": "code",
      "execution_count": 1,
      "metadata": {
        "colab": {
          "base_uri": "https://localhost:8080/"
        },
        "id": "Rgwbw0tZ9all",
        "outputId": "1aa6792f-5d3d-4098-a380-2dc558b15481"
      },
      "outputs": [
        {
          "output_type": "stream",
          "name": "stderr",
          "text": [
            "[nltk_data] Downloading package twitter_samples to /root/nltk_data...\n",
            "[nltk_data]   Unzipping corpora/twitter_samples.zip.\n"
          ]
        },
        {
          "output_type": "execute_result",
          "data": {
            "text/plain": [
              "True"
            ]
          },
          "metadata": {},
          "execution_count": 1
        }
      ],
      "source": [
        "import nltk\n",
        "from nltk.corpus import twitter_samples\n",
        "import matplotlib.pyplot as plt\n",
        "import numpy as np\n",
        "\n",
        "nltk.download('twitter_samples')"
      ]
    },
    {
      "cell_type": "code",
      "source": [
        "!pip install utils"
      ],
      "metadata": {
        "colab": {
          "base_uri": "https://localhost:8080/"
        },
        "id": "FoLGYdMkTOXw",
        "outputId": "070a1958-923e-4277-b9f1-1831a46f93f7"
      },
      "execution_count": 3,
      "outputs": [
        {
          "output_type": "stream",
          "name": "stdout",
          "text": [
            "Collecting utils\n",
            "  Downloading utils-1.0.2.tar.gz (13 kB)\n",
            "  Preparing metadata (setup.py) ... \u001b[?25l\u001b[?25hdone\n",
            "Building wheels for collected packages: utils\n",
            "  Building wheel for utils (setup.py) ... \u001b[?25l\u001b[?25hdone\n",
            "  Created wheel for utils: filename=utils-1.0.2-py2.py3-none-any.whl size=13906 sha256=007a059d9e85677d591ae5afc1a0d1e3586b52c88b4fadb3e330cd896aeb5850\n",
            "  Stored in directory: /root/.cache/pip/wheels/15/0c/b3/674aea8c5d91c642c817d4d630bd58faa316724b136844094d\n",
            "Successfully built utils\n",
            "Installing collected packages: utils\n",
            "Successfully installed utils-1.0.2\n"
          ]
        }
      ]
    },
    {
      "cell_type": "code",
      "source": [
        "# Import necessary libraries\n",
        "import re\n",
        "import string\n",
        "import nltk\n",
        "from nltk.corpus import stopwords\n",
        "from nltk.tokenize import word_tokenize\n",
        "\n",
        "# Download NLTK data (punkt and punkt_tab)\n",
        "nltk.download('punkt')\n",
        "nltk.download('punkt_tab')\n",
        "nltk.download('stopwords')\n",
        "\n",
        "# Function to preprocess a tweet\n",
        "def process_tweet(tweet):\n",
        "    \"\"\"\n",
        "    Preprocess a tweet by:\n",
        "    - Lowercasing\n",
        "    - Removing URLs, hashtags, mentions, and special characters\n",
        "    - Tokenizing into words\n",
        "    - Removing stopwords and punctuation\n",
        "\n",
        "    Args:\n",
        "        tweet (str): The tweet to be processed.\n",
        "\n",
        "    Returns:\n",
        "        list: A list of processed words.\n",
        "    \"\"\"\n",
        "    # Lowercase the tweet\n",
        "    tweet = tweet.lower()\n",
        "\n",
        "    # Remove URLs, hashtags, and mentions\n",
        "    tweet = re.sub(r'http\\S+|www\\S+|https\\S+', '', tweet, flags=re.MULTILINE)\n",
        "    tweet = re.sub(r'@\\w+', '', tweet)\n",
        "    tweet = re.sub(r'#\\w+', '', tweet)\n",
        "\n",
        "    # Remove punctuation and special characters\n",
        "    tweet = tweet.translate(str.maketrans('', '', string.punctuation))\n",
        "\n",
        "    # Tokenize the tweet into words\n",
        "    words = word_tokenize(tweet)\n",
        "\n",
        "    # Remove stopwords\n",
        "    stop_words = set(stopwords.words('english'))\n",
        "    words = [word for word in words if word not in stop_words]\n",
        "\n",
        "    return words\n",
        "\n",
        "# Function to build a frequency dictionary\n",
        "def build_freqs(tweets, labels):\n",
        "    \"\"\"\n",
        "    Build a frequency dictionary that maps each (word, sentiment) pair to its frequency.\n",
        "\n",
        "    Args:\n",
        "        tweets (list): A list of tweets.\n",
        "        labels (list): A list of labels corresponding to the tweets (1 for positive, 0 for negative).\n",
        "\n",
        "    Returns:\n",
        "        dict: A dictionary mapping (word, sentiment) pairs to their frequencies.\n",
        "    \"\"\"\n",
        "    freqs = {}\n",
        "\n",
        "    for tweet, label in zip(tweets, labels):\n",
        "        # Process the tweet\n",
        "        words = process_tweet(tweet)\n",
        "\n",
        "        for word in words:\n",
        "            # Update the frequency dictionary\n",
        "            pair = (word, label)\n",
        "            if pair in freqs:\n",
        "                freqs[pair] += 1\n",
        "            else:\n",
        "                freqs[pair] = 1\n",
        "\n",
        "    return freqs\n",
        "\n",
        "# Example usage\n",
        "if __name__ == \"__main__\":\n",
        "    # Example tweets and labels\n",
        "    tweets = [\n",
        "        \"I love this song! ❤\",\n",
        "        \"This is a bad idea :(\",\n",
        "        \"What a magnificent play! 😍\",\n",
        "        \"I'm so sad about this 😒\"\n",
        "    ]\n",
        "\n",
        "    labels = [1, 0, 1, 0]  # 1 for positive, 0 for negative\n",
        "\n",
        "    # Build the frequency dictionary\n",
        "    freqs = build_freqs(tweets, labels)\n",
        "\n",
        "    # Print the frequency dictionary\n",
        "    print(\"Frequency Dictionary:\")\n",
        "    for key, value in freqs.items():\n",
        "        print(f\"{key}: {value}\")"
      ],
      "metadata": {
        "colab": {
          "base_uri": "https://localhost:8080/"
        },
        "id": "JkV7Z1rXU81R",
        "outputId": "da18e886-5f9a-4377-c0b1-c8ae33de8ab9"
      },
      "execution_count": 28,
      "outputs": [
        {
          "output_type": "stream",
          "name": "stdout",
          "text": [
            "Frequency Dictionary:\n",
            "('love', 1): 1\n",
            "('song', 1): 1\n",
            "('❤', 1): 1\n",
            "('bad', 0): 1\n",
            "('idea', 0): 1\n",
            "('magnificent', 1): 1\n",
            "('play', 1): 1\n",
            "('😍', 1): 1\n",
            "('im', 0): 1\n",
            "('sad', 0): 1\n",
            "('😒', 0): 1\n"
          ]
        },
        {
          "output_type": "stream",
          "name": "stderr",
          "text": [
            "[nltk_data] Downloading package punkt to /root/nltk_data...\n",
            "[nltk_data]   Package punkt is already up-to-date!\n",
            "[nltk_data] Downloading package punkt_tab to /root/nltk_data...\n",
            "[nltk_data]   Package punkt_tab is already up-to-date!\n",
            "[nltk_data] Downloading package stopwords to /root/nltk_data...\n",
            "[nltk_data]   Package stopwords is already up-to-date!\n"
          ]
        }
      ]
    },
    {
      "cell_type": "code",
      "source": [
        "all_positive_tweets = twitter_samples.strings('positive_tweets.json')\n",
        "all_negative_tweets = twitter_samples.strings('negative_tweets.json')\n",
        "\n",
        "tweets = all_positive_tweets + all_negative_tweets\n",
        "\n",
        "print(\"Number of tweets:\", len(tweets))"
      ],
      "metadata": {
        "colab": {
          "base_uri": "https://localhost:8080/"
        },
        "id": "-2u504J1UX1Z",
        "outputId": "f9fd19d5-57cc-487b-9ea5-0443a297c9da"
      },
      "execution_count": 29,
      "outputs": [
        {
          "output_type": "stream",
          "name": "stdout",
          "text": [
            "Number of tweets: 10000\n"
          ]
        }
      ]
    },
    {
      "cell_type": "code",
      "source": [
        "labels = np.append(np.ones((len(all_positive_tweets))), np.zeros((len(all_negative_tweets))))"
      ],
      "metadata": {
        "id": "7Dzm0fmVU_Zv"
      },
      "execution_count": 9,
      "outputs": []
    },
    {
      "cell_type": "code",
      "source": [
        "dictionary = {\n",
        "    'key1': 1,\n",
        "    'key2': 2\n",
        "}"
      ],
      "metadata": {
        "id": "xRQ7N76CVeMv"
      },
      "execution_count": 10,
      "outputs": []
    },
    {
      "cell_type": "code",
      "source": [
        "dictionary['key3'] = -5\n",
        "\n",
        "dictionary['key1'] = 0"
      ],
      "metadata": {
        "id": "fuHy9EGRVyYZ"
      },
      "execution_count": 12,
      "outputs": []
    },
    {
      "cell_type": "code",
      "source": [
        "print(dictionary)"
      ],
      "metadata": {
        "colab": {
          "base_uri": "https://localhost:8080/"
        },
        "id": "e1vuNdipV9kp",
        "outputId": "347565c6-b50f-4cd4-eae4-d301b0fd116e"
      },
      "execution_count": 13,
      "outputs": [
        {
          "output_type": "stream",
          "name": "stdout",
          "text": [
            "{'key1': 0, 'key2': 2, 'key3': -5}\n"
          ]
        }
      ]
    },
    {
      "cell_type": "code",
      "source": [
        "print(dictionary['key2'])"
      ],
      "metadata": {
        "colab": {
          "base_uri": "https://localhost:8080/"
        },
        "id": "eIcwjdZ2WGEH",
        "outputId": "bf4c6706-f4ff-474c-fb19-4fa3ce43f41d"
      },
      "execution_count": 14,
      "outputs": [
        {
          "output_type": "stream",
          "name": "stdout",
          "text": [
            "2\n"
          ]
        }
      ]
    },
    {
      "cell_type": "code",
      "source": [
        "if 'key1' in dictionary:\n",
        "  print(\"Item found:\", dictionary['key1'])\n",
        "else:\n",
        "  print(\"Item not found\")"
      ],
      "metadata": {
        "colab": {
          "base_uri": "https://localhost:8080/"
        },
        "id": "R3HanJ_7WYpO",
        "outputId": "7b5892c0-021a-4e7d-c91d-95c40fa48124"
      },
      "execution_count": 17,
      "outputs": [
        {
          "output_type": "stream",
          "name": "stdout",
          "text": [
            "Item found: 0\n"
          ]
        }
      ]
    },
    {
      "cell_type": "code",
      "source": [
        "if 'key7' in dictionary:\n",
        "  print(\"Item found:\", dictionary['key7'])\n",
        "else:\n",
        "  print(\"Item not found\")\n",
        "\n",
        "print(dictionary.get('key7', -1))"
      ],
      "metadata": {
        "colab": {
          "base_uri": "https://localhost:8080/"
        },
        "id": "MjqZEYnkWt1H",
        "outputId": "73015aee-c641-420b-d4c6-40627820f596"
      },
      "execution_count": 18,
      "outputs": [
        {
          "output_type": "stream",
          "name": "stdout",
          "text": [
            "Item not found\n",
            "-1\n"
          ]
        }
      ]
    },
    {
      "cell_type": "code",
      "source": [
        "freqs = build_freqs(tweets, labels)\n",
        "\n",
        "print(f'type(freqs) = {type(freqs)}')\n",
        "print(f'len(freqs) = {len(freqs)}')"
      ],
      "metadata": {
        "colab": {
          "base_uri": "https://localhost:8080/"
        },
        "id": "JkB4q-9QYXrv",
        "outputId": "d13fb84a-433b-4b8a-8706-ae3795a945a6"
      },
      "execution_count": 30,
      "outputs": [
        {
          "output_type": "stream",
          "name": "stdout",
          "text": [
            "type(freqs) = <class 'dict'>\n",
            "len(freqs) = 25\n"
          ]
        }
      ]
    },
    {
      "cell_type": "code",
      "source": [
        "print(freqs)"
      ],
      "metadata": {
        "colab": {
          "base_uri": "https://localhost:8080/"
        },
        "id": "qPdDnZ0DXxh_",
        "outputId": "a976cd82-1ab6-4b01-9ecb-510114c4717e"
      },
      "execution_count": 31,
      "outputs": [
        {
          "output_type": "stream",
          "name": "stdout",
          "text": [
            "{('top', 1): 1, ('engaged', 1): 1, ('members', 1): 1, ('community', 1): 1, ('week', 1): 1, ('hey', 0): 1, ('james', 0): 1, ('odd', 0): 1, ('please', 0): 1, ('call', 0): 1, ('contact', 0): 1, ('centre', 0): 1, ('02392441234', 0): 1, ('able', 0): 1, ('assist', 0): 1, ('many', 0): 1, ('thanks', 0): 1, ('listen', 1): 1, ('last', 1): 1, ('night', 1): 1, ('bleed', 1): 1, ('amazing', 1): 1, ('track', 1): 1, ('scotland', 1): 1, ('congrats', 0): 1}\n"
          ]
        }
      ]
    },
    {
      "cell_type": "code",
      "source": [
        "# select some words to appear in the report. we will assume that each word is unique (i.e. no duplicates)\n",
        "keys = ['happi', 'merri', 'nice', 'good', 'bad', 'sad', 'mad', 'best', 'pretti',\n",
        "        '❤', ':)', ':(', '😒', '😬', '😄', '😍', '♛',\n",
        "        'song', 'idea', 'power', 'play', 'magnific']\n",
        "\n",
        "# list representing our table of word counts.\n",
        "# each element consist of a sublist with this pattern: [<word>, <positive_count>, <negative_count>]\n",
        "data = []\n",
        "\n",
        "# loop through our selected words\n",
        "for word in keys:\n",
        "\n",
        "    # initialize positive and negative counts\n",
        "    pos = 0\n",
        "    neg = 0\n",
        "\n",
        "    # retrieve number of positive counts\n",
        "    if (word, 1) in freqs:\n",
        "        pos = freqs[(word, 1)]\n",
        "\n",
        "    # retrieve number of negative counts\n",
        "    if (word, 0) in freqs:\n",
        "        neg = freqs[(word, 0)]\n",
        "\n",
        "    # append the word counts to the table\n",
        "    data.append([word, pos, neg])\n",
        "\n",
        "data"
      ],
      "metadata": {
        "colab": {
          "base_uri": "https://localhost:8080/"
        },
        "id": "qPtpzwzUXz8l",
        "outputId": "8bc87509-35ba-422c-aab6-40e678c59674"
      },
      "execution_count": 32,
      "outputs": [
        {
          "output_type": "execute_result",
          "data": {
            "text/plain": [
              "[['happi', 0, 0],\n",
              " ['merri', 0, 0],\n",
              " ['nice', 0, 0],\n",
              " ['good', 0, 0],\n",
              " ['bad', 0, 0],\n",
              " ['sad', 0, 0],\n",
              " ['mad', 0, 0],\n",
              " ['best', 0, 0],\n",
              " ['pretti', 0, 0],\n",
              " ['❤', 0, 0],\n",
              " [':)', 0, 0],\n",
              " [':(', 0, 0],\n",
              " ['😒', 0, 0],\n",
              " ['😬', 0, 0],\n",
              " ['😄', 0, 0],\n",
              " ['😍', 0, 0],\n",
              " ['♛', 0, 0],\n",
              " ['song', 0, 0],\n",
              " ['idea', 0, 0],\n",
              " ['power', 0, 0],\n",
              " ['play', 0, 0],\n",
              " ['magnific', 0, 0]]"
            ]
          },
          "metadata": {},
          "execution_count": 32
        }
      ]
    },
    {
      "cell_type": "code",
      "source": [
        "fig, ax = plt.subplots(figsize = (8, 8))\n",
        "\n",
        "# convert positive raw counts to logarithmic scale. we add 1 to avoid log(0)\n",
        "x = np.log([x[1] + 1 for x in data])\n",
        "\n",
        "# do the same for the negative counts\n",
        "y = np.log([x[2] + 1 for x in data])\n",
        "\n",
        "# Plot a dot for each pair of words\n",
        "ax.scatter(x, y)\n",
        "\n",
        "# assign axis labels\n",
        "plt.xlabel(\"Log Positive count\")\n",
        "plt.ylabel(\"Log Negative count\")\n",
        "\n",
        "# Add the word as the label at the same position as you added the points just before\n",
        "for i in range(0, len(data)):\n",
        "    ax.annotate(data[i][0], (x[i], y[i]), fontsize=12)\n",
        "\n",
        "ax.plot([0, 9], [0, 9], color = 'red') # Plot the red line that divides the 2 areas.\n",
        "plt.show()"
      ],
      "metadata": {
        "colab": {
          "base_uri": "https://localhost:8080/",
          "height": 717
        },
        "id": "dunrRgSLX1U3",
        "outputId": "a1b725d4-2f61-45bd-9edf-39860c796432"
      },
      "execution_count": 33,
      "outputs": [
        {
          "output_type": "stream",
          "name": "stderr",
          "text": [
            "/usr/local/lib/python3.11/dist-packages/IPython/core/pylabtools.py:151: UserWarning: Glyph 128556 (\\N{GRIMACING FACE}) missing from font(s) DejaVu Sans.\n",
            "  fig.canvas.print_figure(bytes_io, **kw)\n"
          ]
        },
        {
          "output_type": "display_data",
          "data": {
            "text/plain": [
              "<Figure size 800x800 with 1 Axes>"
            ],
            "image/png": "[encoded data removed]"
          },
          "metadata": {}
        }
      ]
    }
  ]
}